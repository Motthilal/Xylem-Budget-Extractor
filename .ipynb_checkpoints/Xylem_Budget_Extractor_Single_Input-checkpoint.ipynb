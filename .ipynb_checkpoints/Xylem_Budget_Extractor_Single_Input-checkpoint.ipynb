{
 "cells": [
  {
   "cell_type": "code",
   "execution_count": null,
   "metadata": {},
   "outputs": [],
   "source": [
    "import pandas as pd\n",
    "from googlesearch import search \n",
    "from urllib.request import urlretrieve\n",
    "from urllib.request import Request, urlopen \n",
    "import requests  \n",
    "import urllib.request\n",
    "\n",
    "import PyPDF2\n",
    "from PyPDF2 import PdfFileReader, PdfFileWriter\n",
    "import re\n",
    "import tabula\n",
    "import os\n",
    "import warnings\n",
    "warnings.filterwarnings(\"ignore\")\n",
    "\n",
    "\n",
    "from io import BytesIO\n",
    "\n",
    "import re"
   ]
  },
  {
   "cell_type": "markdown",
   "metadata": {},
   "source": [
    "## Helper Functions"
   ]
  },
  {
   "cell_type": "code",
   "execution_count": 1,
   "metadata": {},
   "outputs": [],
   "source": [
    "import re\n",
    "def getWordsFromURL(url):\n",
    "    '''\n",
    "    Description - Function to clean URL\n",
    "    Input - url\n",
    "    Output - url consisting of words only\n",
    "    '''\n",
    "    return re.compile(r'[\\:/?=\\-&]+',re.UNICODE).split(url)\n",
    "\n",
    "\n",
    "def check_keyword(keywords):\n",
    "    '''\n",
    "    Description - Function to check if '.pdf' is present in url\n",
    "    Input - url words\n",
    "    Output - True or False\n",
    "    '''\n",
    "    for keyword in keywords:\n",
    "        if \".pdf\" in keyword:\n",
    "            return True\n",
    "    return False"
   ]
  },
  {
   "cell_type": "markdown",
   "metadata": {},
   "source": [
    "## Task 2 - Extract Tables"
   ]
  },
  {
   "cell_type": "code",
   "execution_count": null,
   "metadata": {},
   "outputs": [],
   "source": [
    "def get_tables(url):\n",
    "    \n",
    "    '''\n",
    "    Description - Function to extract tables from PDFs using Tabula\n",
    "    Input - URL and Context table\n",
    "    Output - Updated context table and Budget tables\n",
    "    '''\n",
    "    \n",
    "    class AppURLopener(urllib.request.FancyURLopener):\n",
    "        version = \"Mozilla/5.0\"\n",
    "        \n",
    "        \n",
    "    opener = AppURLopener()\n",
    "    remoteFile = opener.open(url).read()\n",
    "    memoryFile = BytesIO(remoteFile)\n",
    "    \n",
    "    print(\"Scanning url \"+str(url))\n",
    "    dfs = tabula.read_pdf(memoryFile, pages=\"all\")\n",
    "    pdfs = []\n",
    "    for df in dfs:\n",
    "        s = df.to_string()\n",
    "        matches = [\"water\", \"sewer\", \"capital\",\"operational\",\"utlities\",\"p.u\",\"distribution\",\"meter\"]\n",
    "        if any(x in s.lower() for x in matches):\n",
    "            pdfs.append(df)\n",
    "            \n",
    "    print(\"Found \"+str(len(pdfs))+\" tables\")\n",
    "    return pdfs"
   ]
  },
  {
   "cell_type": "markdown",
   "metadata": {},
   "source": [
    "## Task 1 - Extract PDFs with PWS name"
   ]
  },
  {
   "cell_type": "code",
   "execution_count": null,
   "metadata": {},
   "outputs": [],
   "source": [
    "def main(name):\n",
    "    \n",
    "    '''\n",
    "    Description - Main function to first extract PDF URL and then call get_tables() function\n",
    "    Input - PWS info\n",
    "    Output - Context Table, Budget Tables\n",
    "    '''\n",
    "    \n",
    "    num_pdfs = 0\n",
    "    missed = 0\n",
    "    name = name.lower()\n",
    "    query = name + \" municipal utility water budget fiscal year 2020 pdf\"\n",
    "    urls = []\n",
    "    print('-------------------------')\n",
    "    print('Searching for query : '+str(query))\n",
    "    print('--------------------------')\n",
    "    for j in search(query, tld=\"com\", num=10, stop=10, pause=2): \n",
    "        urls.append(j)\n",
    "    for url in urls:\n",
    "        words = getWordsFromURL(url)\n",
    "        keywords = [x.lower() for x in words]\n",
    "        if check_keyword(keywords):\n",
    "            num_pdfs += 1\n",
    "            try:\n",
    "                budget_tables = get_tables(url)\n",
    "            except:\n",
    "                print('URL failed to download - '+str(url))\n",
    "\n",
    "        else:\n",
    "            print('No query match')\n",
    "            missed += 1\n",
    "\n",
    "        break\n",
    "    return budget_tables"
   ]
  },
  {
   "cell_type": "markdown",
   "metadata": {},
   "source": [
    "## Run the below cell for full pipeline"
   ]
  },
  {
   "cell_type": "code",
   "execution_count": null,
   "metadata": {},
   "outputs": [],
   "source": [
    "# ---- Run this cell to run main function-----#\n",
    "\n",
    "pws_name = \"City of Chicago\"\n",
    "tables = main(pws_name)"
   ]
  },
  {
   "cell_type": "code",
   "execution_count": null,
   "metadata": {},
   "outputs": [],
   "source": [
    "# --- tables is a 1D array------#\n",
    "\n",
    "tables[0]"
   ]
  }
 ],
 "metadata": {
  "kernelspec": {
   "display_name": "Python 3",
   "language": "python",
   "name": "python3"
  },
  "language_info": {
   "codemirror_mode": {
    "name": "ipython",
    "version": 3
   },
   "file_extension": ".py",
   "mimetype": "text/x-python",
   "name": "python",
   "nbconvert_exporter": "python",
   "pygments_lexer": "ipython3",
   "version": "3.7.4"
  }
 },
 "nbformat": 4,
 "nbformat_minor": 2
}
