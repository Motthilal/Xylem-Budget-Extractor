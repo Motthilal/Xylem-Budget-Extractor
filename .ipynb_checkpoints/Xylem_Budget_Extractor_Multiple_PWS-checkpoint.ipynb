{
 "cells": [
  {
   "cell_type": "code",
   "execution_count": null,
   "metadata": {},
   "outputs": [],
   "source": [
    "import pandas as pd\n",
    "from googlesearch import search \n",
    "from urllib.request import urlretrieve\n",
    "from urllib.request import Request, urlopen \n",
    "import requests  \n",
    "import urllib.request\n",
    "\n",
    "import PyPDF2\n",
    "from PyPDF2 import PdfFileReader, PdfFileWriter\n",
    "import re\n",
    "import tabula\n",
    "import os\n",
    "import warnings\n",
    "warnings.filterwarnings(\"ignore\")\n",
    "\n",
    "\n",
    "from io import BytesIO\n",
    "\n",
    "import re"
   ]
  },
  {
   "cell_type": "markdown",
   "metadata": {},
   "source": [
    "## Read file"
   ]
  },
  {
   "cell_type": "markdown",
   "metadata": {},
   "source": [
    "### Change path to run"
   ]
  },
  {
   "cell_type": "code",
   "execution_count": null,
   "metadata": {},
   "outputs": [],
   "source": [
    "# Change path to run\n",
    "csv_path = \"epa_systems_with_sensus_groups_04-07-20.csv\""
   ]
  },
  {
   "cell_type": "code",
   "execution_count": null,
   "metadata": {},
   "outputs": [],
   "source": [
    "budget_df = pd.read_csv(csv_path,index_col=False)"
   ]
  },
  {
   "cell_type": "code",
   "execution_count": null,
   "metadata": {},
   "outputs": [],
   "source": [
    "budget_df[\"size_group\"].value_counts()"
   ]
  },
  {
   "cell_type": "markdown",
   "metadata": {},
   "source": [
    "## Choose Category"
   ]
  },
  {
   "cell_type": "code",
   "execution_count": null,
   "metadata": {},
   "outputs": [],
   "source": [
    "# filtered_budget = budget_df[((budget_df['size_group'] == 'A: 500 - 2500') | (budget_df['size_group'] == 'B: 2500 - 7500') | (budget_df['size_group'] == 'C: > 7500')) & (budget_df['owner_type_code'] == 'L')]\n",
    "filtered_budget = budget_df[(budget_df['size_group'] == 'B: 2500 - 7500') & (budget_df['owner_type_code'] == 'L')]\n",
    "filtered_budget = filtered_budget.dropna(axis=0,how='all')\n",
    "filtered_budget.shape"
   ]
  },
  {
   "cell_type": "code",
   "execution_count": null,
   "metadata": {},
   "outputs": [],
   "source": [
    "pws_names = filtered_budget['pws_name'][:].tolist()\n",
    "pws_ids = filtered_budget['pwsid'][:].tolist()\n",
    "categories = filtered_budget['size_group'][:].tolist()\n",
    "pws_info = list(zip(pws_ids,pws_names,categories))"
   ]
  },
  {
   "cell_type": "code",
   "execution_count": null,
   "metadata": {},
   "outputs": [],
   "source": [
    "pws_info"
   ]
  },
  {
   "cell_type": "markdown",
   "metadata": {},
   "source": [
    "## Helper Functions"
   ]
  },
  {
   "cell_type": "code",
   "execution_count": null,
   "metadata": {},
   "outputs": [],
   "source": [
    "\n",
    "import re\n",
    "def getWordsFromURL(url):\n",
    "    '''\n",
    "    Description - Function to clean URL\n",
    "    Input - url\n",
    "    Output - url consisting of words only\n",
    "    '''\n",
    "    return re.compile(r'[\\:/?=\\-&]+',re.UNICODE).split(url)\n",
    "\n",
    "\n",
    "def check_keyword(keywords):\n",
    "    '''\n",
    "    Description - Function to check if '.pdf' is present in url\n",
    "    Input - url words\n",
    "    Output - True or False\n",
    "    '''\n",
    "    for keyword in keywords:\n",
    "        if \".pdf\" in keyword:\n",
    "            return True\n",
    "    return False"
   ]
  },
  {
   "cell_type": "markdown",
   "metadata": {},
   "source": [
    "## Task 2 - Extract Tables"
   ]
  },
  {
   "cell_type": "code",
   "execution_count": null,
   "metadata": {},
   "outputs": [],
   "source": [
    "def get_tables(url,req_data):\n",
    "\n",
    "    '''\n",
    "    Description - Function to extract tables from PDFs using Tabula\n",
    "    Input - URL and Context table\n",
    "    Output - Updated context table and Budget tables\n",
    "    '''\n",
    "    \n",
    "    class AppURLopener(urllib.request.FancyURLopener):\n",
    "        version = \"Mozilla/5.0\"\n",
    "        \n",
    "        \n",
    "    opener = AppURLopener()\n",
    "    remoteFile = opener.open(url).read()\n",
    "    memoryFile = BytesIO(remoteFile)\n",
    "    \n",
    "    print(\"Scanning url \"+str(url))\n",
    "    dfs = tabula.read_pdf(memoryFile, pages=\"all\")\n",
    "    req_data[\"total_number_of_tables\"].append(len(dfs))\n",
    "    pdfs = []\n",
    "    for df in dfs:\n",
    "        s = df.to_string()\n",
    "        matches = [\"water\", \"sewer\", \"capital\",\"operational\",\"utlities\",\"p.u\",\"distribution\",\"meter\"]\n",
    "        if any(x in s.lower() for x in matches):\n",
    "            pdfs.append(df)\n",
    "            \n",
    "    req_data[\"number_of_tables_with_budget_info\"].append(len(pdfs))\n",
    "    print(\"Found \"+str(len(pdfs))+\" tables\")\n",
    "    return req_data,pdfs"
   ]
  },
  {
   "cell_type": "markdown",
   "metadata": {},
   "source": [
    "## Task 1 - Extract PDFs with PWS name"
   ]
  },
  {
   "cell_type": "code",
   "execution_count": null,
   "metadata": {},
   "outputs": [],
   "source": [
    "\n",
    "def main(pws_info):\n",
    "    \n",
    "    '''\n",
    "    Description - Main function to first extract PDF URL and then call get_tables() function\n",
    "    Input - PWS info\n",
    "    Output - Context Table, Budget Tables\n",
    "    '''\n",
    "    \n",
    "    num_pdfs = 0\n",
    "    urls_failed = []\n",
    "    budget_tables_per_pdf = []\n",
    "    missed = 0\n",
    "    req_df = pd.DataFrame()\n",
    "    req_data = {\"pwsid\":[],\"pws_name\":[],\"category\":[],\"total_number_of_tables\":[],\"number_of_tables_with_budget_info\":[],\"missed_flag\":[],\"url_failed_to_download\":[]}\n",
    "    \n",
    "    \n",
    "    for pws_id,name,category in pws_info:\n",
    "        print(pws_id,name,category)\n",
    "        req_data[\"pwsid\"].append(pws_id)\n",
    "        req_data[\"pws_name\"].append(name)\n",
    "        req_data[\"category\"].append(category)\n",
    "        name = name.lower()\n",
    "        query = name + \" municipal utility water budget fiscal year 2020 pdf\"\n",
    "        urls = []\n",
    "        print('-------------------------')\n",
    "        print('Searching for query : '+str(query))\n",
    "        print('--------------------------')\n",
    "        for j in search(query, tld=\"com\", num=10, stop=10, pause=2): \n",
    "            urls.append(j)\n",
    "        for url in urls:\n",
    "            words = getWordsFromURL(url)\n",
    "            keywords = [x.lower() for x in words]\n",
    "            if check_keyword(keywords):\n",
    "                req_data[\"missed_flag\"].append(0)\n",
    "                num_pdfs += 1\n",
    "                try:\n",
    "                    req_data, budget_tables = get_tables(url,req_data)\n",
    "                    budget_tables_per_pdf.append(budget_tables)\n",
    "                    req_data[\"url_failed_to_download\"].append(0)\n",
    "                except:\n",
    "                    req_data[\"url_failed_to_download\"].append(1)\n",
    "                    req_data[\"total_number_of_tables\"].append(0)\n",
    "                    req_data[\"number_of_tables_with_budget_info\"].append(0)\n",
    "                    print('URL failed to download - '+str(url))\n",
    "                    urls_failed.append(url)\n",
    "                    \n",
    "            else:\n",
    "                req_data[\"missed_flag\"].append(1)\n",
    "                req_data[\"total_number_of_tables\"].append(0)\n",
    "                req_data[\"number_of_tables_with_budget_info\"].append(0)\n",
    "                req_data[\"url_failed_to_download\"].append(0)\n",
    "                print('No query match')\n",
    "                missed += 1\n",
    "\n",
    "            break\n",
    "        print(req_data)\n",
    "    req_df = pd.DataFrame(req_data)\n",
    "    return req_df,budget_tables_per_pdf"
   ]
  },
  {
   "cell_type": "markdown",
   "metadata": {},
   "source": [
    "## Run the below cell for full pipeline"
   ]
  },
  {
   "cell_type": "code",
   "execution_count": null,
   "metadata": {},
   "outputs": [],
   "source": [
    "# ---- Run this cell to run main function-----#\n",
    "begin_list_pws_name = 0\n",
    "end_list_pws_name = 2\n",
    "\n",
    "\n",
    "context,tables = main(pws_info[begin_list_pws_name:end_list_pws_name])"
   ]
  },
  {
   "cell_type": "code",
   "execution_count": null,
   "metadata": {},
   "outputs": [],
   "source": [
    "#--- Context Information ---- #\n",
    "context"
   ]
  },
  {
   "cell_type": "code",
   "execution_count": null,
   "metadata": {},
   "outputs": [],
   "source": [
    "# --- tables is a 2D array------#\n",
    "tables[0][1]"
   ]
  },
  {
   "cell_type": "code",
   "execution_count": null,
   "metadata": {},
   "outputs": [],
   "source": []
  }
 ],
 "metadata": {
  "kernelspec": {
   "display_name": "Python 3",
   "language": "python",
   "name": "python3"
  },
  "language_info": {
   "codemirror_mode": {
    "name": "ipython",
    "version": 3
   },
   "file_extension": ".py",
   "mimetype": "text/x-python",
   "name": "python",
   "nbconvert_exporter": "python",
   "pygments_lexer": "ipython3",
   "version": "3.7.4"
  }
 },
 "nbformat": 4,
 "nbformat_minor": 2
}
